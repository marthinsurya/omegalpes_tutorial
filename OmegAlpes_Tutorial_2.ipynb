{
 "cells": [
  {
   "cell_type": "markdown",
   "metadata": {},
   "source": [
    "# <font color=blue>OmegAlpes Tutorial 2 - Battery and shiftable consumption\n",
    "`Prerequisite :` <a href=\"./OmegAlpes_Tutorial_1.ipynb\">Tutorial 1</a><br><br>\n",
    "<font color=red>There are some parts in this tutorial that has already been covered in previous Tutorial 1 and will not be covered here.</font>\n",
    "    \n",
    "    In this tutorial, we will learn to add storage unit and shiftable consumption unit. With these units, we will explore the suggestion to add battery and change his consumption pattern to John in order to reduce his electricity bill.\n",
    "    \n",
    "   `Learning outcomes :`\n",
    ">1. New energy units: `StorageUnit` and `ShiftableConsumptionUnit`\n",
    "2. Sum total energy of 2 energy units\n",
    "3. Processing result of new energy units\n",
    "   \n",
    "    At the end of this tutorial, you will be able to find out how much battery and changing consumption pattern can reduce  grid import. \n",
    "\n",
    "<img src=\"./images/electricity part.JPG\"><br>"
   ]
  },
  {
   "cell_type": "code",
   "execution_count": null,
   "metadata": {},
   "outputs": [],
   "source": [
    "from Python_Scripts.Omegalpes_tutorial_2 import *"
   ]
  },
  {
   "cell_type": "markdown",
   "metadata": {},
   "source": [
    "    Similar to previous Tutorial 1. Try to have similar steps to have a good programming structure."
   ]
  },
  {
   "cell_type": "markdown",
   "metadata": {},
   "source": [
    "## Create time unit   "
   ]
  },
  {
   "cell_type": "code",
   "execution_count": null,
   "metadata": {},
   "outputs": [],
   "source": [
    "time = TimeUnit(periods=24*1, dt=1)"
   ]
  },
  {
   "cell_type": "markdown",
   "metadata": {},
   "source": [
    "    where :\n",
    "    dt = 1 hour / 60 minutes since all of the production and consumption data is in 1-hour timestep\n",
    "    period = 24 hours. You can have longer period if the data is available.\n",
    "    \n",
    "`to learn more in detail` : <a href=\"https://omegalpes.readthedocs.io/en/latest/api/general.html#module-omegalpes.general.time\">time module</a>"
   ]
  },
  {
   "cell_type": "markdown",
   "metadata": {},
   "source": [
    "## Create empty model\n",
    "    "
   ]
  },
  {
   "cell_type": "code",
   "execution_count": null,
   "metadata": {},
   "outputs": [],
   "source": [
    "model = OptimisationModel(time=time, name='tutorial_2')"
   ]
  },
  {
   "cell_type": "markdown",
   "metadata": {},
   "source": [
    "  \n",
    "`to learn more in detail` : <a href=\"https://omegalpes.readthedocs.io/en/latest/api/general.html#module-omegalpes.general.optimisation.model\">model module</a>"
   ]
  },
  {
   "cell_type": "markdown",
   "metadata": {},
   "source": [
    "## Create energy unit\n",
    "    You already have the skill to create basic production and consumption units. To enhance your skill further, let's learn to create storage units and one of the variation of Variable energy unit, Shiftable consumption unit."
   ]
  },
  {
   "cell_type": "markdown",
   "metadata": {},
   "source": [
    "### Create fixed energy units"
   ]
  },
  {
   "cell_type": "markdown",
   "metadata": {},
   "source": [
    "    Create PV production and house consumption which we have the data profile of.\n",
    "    \n",
    "    We are going to suggest John to change his consumption pattern by moving his washing machine usage habit at night-time  (green graph) to a more favorable time. Thus, We use consumption profile file without washing machine usage for fixed   consumption unit data reference.\n",
    "\n",
    "<img src=\"./images/2-WM.JPG\" width=\"550\" height=\"150\" alt=\"Graph is produced using OmegAlpes\">\n",
    "<br>"
   ]
  },
  {
   "cell_type": "code",
   "execution_count": null,
   "metadata": {},
   "outputs": [],
   "source": [
    "consumption_profile = open(\"data/house con 24 kwh wo wm.csv\", \"r\")\n",
    "\n",
    "house_cons_file = [p for p in map(float, consumption_profile)]\n",
    "\n",
    "house_consumption = FixedConsumptionUnit(time, 'johns_consumption', p=house_cons_file, energy_type=elec)"
   ]
  },
  {
   "cell_type": "code",
   "execution_count": null,
   "metadata": {},
   "outputs": [],
   "source": [
    "pv_profile = open(\"data/pv prod 24 kwh.csv\", \"r\")\n",
    "\n",
    "pv_production_daily = [p for p in map(float, pv_profile)]\n",
    "\n",
    "pv_production = FixedProductionUnit(time, name='pv_production', p=pv_production_daily ,energy_type=elec)"
   ]
  },
  {
   "cell_type": "markdown",
   "metadata": {},
   "source": [
    "    Now, we have created 2 fixed energy units\n",
    "<img src=\"./images/1-fixed_units.JPG\" width=\"550\" height=\"150\">"
   ]
  },
  {
   "cell_type": "markdown",
   "metadata": {},
   "source": [
    "### Create variable energy units\n",
    "     We create VariableProductionUnit and VariableConsumptionUnit, that represent grid export-import."
   ]
  },
  {
   "cell_type": "code",
   "execution_count": null,
   "metadata": {},
   "outputs": [],
   "source": [
    "grid_import = VariableProductionUnit(time, 'grid_import', energy_type=elec, p_min=0)\n",
    "\n",
    "grid_export = VariableConsumptionUnit(time, 'grid_export', energy_type=elec, p_min=0)"
   ]
  },
  {
   "cell_type": "markdown",
   "metadata": {},
   "source": [
    "    Now, we create ShiftableConsumptionUnit that represents washing machine. ShiftableConsumptionUnit is a consumption unit with shiftable consumption profile. So, washing machine power profile is shiftable during optimisation.\n",
    "    \n",
    "    First, We import the washing machine consumptions data from the csv file provided."
   ]
  },
  {
   "cell_type": "code",
   "execution_count": null,
   "metadata": {},
   "outputs": [],
   "source": [
    "wm_profile = open(\"data/washer 24 kwh.csv\", \"r\")\n",
    "\n",
    "wm_cons_file = [p for p in map(float, wm_profile)]\n",
    "\n",
    "wm_consumption = ShiftableConsumptionUnit(time, 'washing_machine_consumption', power_values=wm_cons_file,\n",
    "                                          energy_type=elec)"
   ]
  },
  {
   "cell_type": "markdown",
   "metadata": {},
   "source": [
    "    This shiftable consumption unit has attributes :\n",
    "    - time which refers to timeunit\n",
    "    - label to show in the result\n",
    "    - power_values = consumption profile to shift (kW)\n",
    "    - energy_type = electrical\n",
    "    \n",
    "`to learn more in detail` : <a href=\"https://omegalpes.readthedocs.io/en/latest/api/energy_package.html#module-omegalpes.energy.energy_nodes\">energy nodes module</a>"
   ]
  },
  {
   "cell_type": "markdown",
   "metadata": {},
   "source": [
    "    Now, we have three 3 energy units to add to our model.\n",
    "<img src=\"./images/2-variable_units.JPG\" width=\"550\" height=\"150\">\n",
    "<br>"
   ]
  },
  {
   "cell_type": "markdown",
   "metadata": {},
   "source": [
    "### Create storage units\n",
    "    (try to remove) Now, we introduce another energy units type to the model, storage units. Do you remember that we have energy surplus in tutorial 1 that was exported to the grid ? Do you know how much is it ? It is time for another challenge!"
   ]
  },
  {
   "cell_type": "code",
   "execution_count": 1,
   "metadata": {
    "scrolled": true
   },
   "outputs": [
    {
     "data": {
      "application/vnd.jupyter.widget-view+json": {
       "model_id": "37f7e2846f2b493baac7fcbd7102396c",
       "version_major": 2,
       "version_minor": 0
      },
      "text/plain": [
       "VBox(children=(Output(layout=Layout(width='auto')), HBox(children=(Output(layout=Layout(width='auto')), Text(v…"
      ]
     },
     "metadata": {},
     "output_type": "display_data"
    }
   ],
   "source": [
    "%run quiz_tutorial21"
   ]
  },
  {
   "cell_type": "markdown",
   "metadata": {},
   "source": [
    "    Now, we want to store this surplus to battery during optimisation. We create Storage units for that. "
   ]
  },
  {
   "cell_type": "code",
   "execution_count": null,
   "metadata": {},
   "outputs": [],
   "source": [
    "storage = StorageUnit(time, name='storage', pc_max=1, pd_max=1, soc_min=0.1, soc_max=0.9, self_disch=0.01, ef_is_e0=True)"
   ]
  },
  {
   "cell_type": "markdown",
   "metadata": {},
   "source": [
    "    This storage unit has attributes :\n",
    "    - time which refers to timeunit\n",
    "    - label to show in the result\n",
    "    - pc (Quantity) : charging power [kW]\n",
    "    - pd (Quantity) : discharging power [kW]\n",
    "    - set_soc_min (DynamicConstraint): constraining the energy to be above the value : soc_min*capacity\n",
    "    - set_soc_max (DynamicConstraint): constraining the energy to be below the value : soc_max*capacity\n",
    "      soc = state of charge, so we set min discharge level (energy left), and max charge level of the storage\n",
    "    - ef_is_e0 (ExternalConstraint) : Imposing ef=e0 on the time period.\n",
    "      ef (Quantity) : energy in the storage at the end of the time horizon, i.e. after the last time step [kWh]\n",
    "      e0  : the energy state for t=0\n",
    "\n",
    "`to learn more in detail` : <a href=\"https://omegalpes.readthedocs.io/en/latest/api/energy_package.html#module-omegalpes.energy.units.storage_units\">storage units module</a>\n",
    "\n",
    "    Now, we have storage unit component in our model as well\n",
    "    \n",
    "<img src=\"./images/2-storage_unit.JPG\" width=\"550\" height=\"150\">\n",
    "<br>"
   ]
  },
  {
   "cell_type": "markdown",
   "metadata": {},
   "source": [
    "## Define model objective\n",
    "    The objective is still the same since our goal is to reduce electricity bill by minimizing grid import "
   ]
  },
  {
   "cell_type": "code",
   "execution_count": null,
   "metadata": {},
   "outputs": [],
   "source": [
    "grid_import.minimize_production()"
   ]
  },
  {
   "cell_type": "markdown",
   "metadata": {},
   "source": [
    "    In this case, optimisation will consider multiple variable units we have (storage, shiftable units & grid import-export).\n",
    "\n",
    "`learn more optimization objective functions for energy units:`<a href=\"https://omegalpes.readthedocs.io/en/latest/api/energy_package.html#module-omegalpes.energy.units.production_units\">production units module</a> & <a href=\"https://omegalpes.readthedocs.io/en/latest/api/energy_package.html#module-omegalpes.energy.units.consumption_units\"> consumption units module</a>"
   ]
  },
  {
   "cell_type": "markdown",
   "metadata": {},
   "source": [
    "## Create energy nodes"
   ]
  },
  {
   "cell_type": "code",
   "execution_count": null,
   "metadata": {},
   "outputs": [],
   "source": [
    "elec_node = EnergyNode(time, name=\"electrical_node\", energy_type=elec)"
   ]
  },
  {
   "cell_type": "markdown",
   "metadata": {},
   "source": [
    "    Then, we connect energy units to the energy node we create. Now, we have storage and washing machine units to add."
   ]
  },
  {
   "cell_type": "code",
   "execution_count": null,
   "metadata": {},
   "outputs": [],
   "source": [
    "elec_node.connect_units(pv_production,house_consumption,grid_import, grid_export,storage,wm_consumption)"
   ]
  },
  {
   "cell_type": "markdown",
   "metadata": {},
   "source": [
    "    Great! Now, we have created our energy system\n",
    "<img src=\"./images/2-node.JPG\" width=\"700\" height=\"150\">"
   ]
  },
  {
   "cell_type": "markdown",
   "metadata": {},
   "source": [
    "\n",
    "\n",
    "`to learn more in detail` : <a href=\"https://omegalpes.readthedocs.io/en/latest/api/energy_package.html#module-omegalpes.energy.energy_nodes\">energy nodes module</a>"
   ]
  },
  {
   "cell_type": "markdown",
   "metadata": {},
   "source": [
    "## Add the energy nodes to the optimisation model\n",
    "    Remember to check that the timeunit is the same for the model and all the units"
   ]
  },
  {
   "cell_type": "code",
   "execution_count": null,
   "metadata": {},
   "outputs": [],
   "source": [
    "model.add_nodes(elec_node)"
   ]
  },
  {
   "cell_type": "markdown",
   "metadata": {},
   "source": [
    "\n",
    "\n",
    "`to learn more in detail` : <a href=\"https://omegalpes.readthedocs.io/en/latest/api/general.html#module-omegalpes.general.optimisation.model\">optimisation model</a>"
   ]
  },
  {
   "cell_type": "markdown",
   "metadata": {},
   "source": [
    "## Launch the optimisation"
   ]
  },
  {
   "cell_type": "code",
   "execution_count": null,
   "metadata": {},
   "outputs": [],
   "source": [
    "model.solve_and_update()"
   ]
  },
  {
   "cell_type": "markdown",
   "metadata": {},
   "source": [
    "\n",
    "\n",
    "`to learn more in detail` : <a href=\"https://omegalpes.readthedocs.io/en/latest/api/general.html#module-omegalpes.general.optimisation.model\">optimisation model</a>"
   ]
  },
  {
   "cell_type": "markdown",
   "metadata": {},
   "source": [
    "## Plot result"
   ]
  },
  {
   "cell_type": "code",
   "execution_count": null,
   "metadata": {},
   "outputs": [],
   "source": [
    "plot_node_energetic_flows(elec_node)"
   ]
  },
  {
   "cell_type": "markdown",
   "metadata": {},
   "source": [
    "`learn more plotting functions:` : <a href=\"https://omegalpes.readthedocs.io/en/latest/api/general.html#module-omegalpes.general.utils.plots\">plots module</a>"
   ]
  },
  {
   "cell_type": "markdown",
   "metadata": {},
   "source": [
    "## Result processing\n",
    "    Showing the result"
   ]
  },
  {
   "cell_type": "code",
   "execution_count": null,
   "metadata": {},
   "outputs": [],
   "source": [
    "plt.show()"
   ]
  },
  {
   "cell_type": "markdown",
   "metadata": {},
   "source": [
    "     Let us compare it with the input data we got\n",
    "<img src=\"./images/2-WM.JPG\" width=\"700\" height=\"300\" alt=\"Graph is produced using OmegAlpes\">\n",
    "<br>\n",
    "    \n",
    "    Let's review the changes!"
   ]
  },
  {
   "cell_type": "code",
   "execution_count": 2,
   "metadata": {
    "scrolled": true
   },
   "outputs": [
    {
     "name": "stdout",
     "output_type": "stream",
     "text": [
      "\u001b[1m What changes you observe from the result graph? \u001b[0m\n"
     ]
    },
    {
     "data": {
      "application/vnd.jupyter.widget-view+json": {
       "model_id": "4d2aaf62da94462486b83fff591846c1",
       "version_major": 2,
       "version_minor": 0
      },
      "text/plain": [
       "RadioButtons(options=(('Grid Import', 1), ('Total consumption', 2), ('Energy surplus/Grid Export', 3)), value=…"
      ]
     },
     "metadata": {},
     "output_type": "display_data"
    },
    {
     "data": {
      "application/vnd.jupyter.widget-view+json": {
       "model_id": "56a86b90241041f9987082e211657bfd",
       "version_major": 2,
       "version_minor": 0
      },
      "text/plain": [
       "Button(description='Review', style=ButtonStyle())"
      ]
     },
     "metadata": {},
     "output_type": "display_data"
    },
    {
     "data": {
      "application/vnd.jupyter.widget-view+json": {
       "model_id": "f2c925a7a7914a1db94c7b7b05de77e0",
       "version_major": 2,
       "version_minor": 0
      },
      "text/plain": [
       "Output()"
      ]
     },
     "metadata": {},
     "output_type": "display_data"
    },
    {
     "name": "stdout",
     "output_type": "stream",
     "text": [
      "You are right! Import has become less due to battery discharge.\n",
      "Total consumption doesn't change, but part of it (washing machine) is moved to a more optimized operation time\n",
      "You are right! Do you realize that the grid export is actually 0 now? Energy surplus is optimized considering all of variables.\n",
      "Resulting in battery and washing machine sharing the energy surplus.\n"
     ]
    }
   ],
   "source": [
    "%run quiz_review2"
   ]
  },
  {
   "cell_type": "markdown",
   "metadata": {},
   "source": [
    " ***\n",
    "    Do you know what battery size is used in this optimisation? You can find out"
   ]
  },
  {
   "cell_type": "code",
   "execution_count": null,
   "metadata": {},
   "outputs": [],
   "source": [
    "storage.capacity.get_value()"
   ]
  },
  {
   "cell_type": "markdown",
   "metadata": {},
   "source": [
    " ***\n",
    "    Since consumptions are seperated in two (house and washing machine), there is a way to sum them up using sum_quantities_in_quantity() function from OmegAlpes that enables you to to plot several quantities after the optimisation is done.\n",
    "    \n",
    "    Let's use below space to find the total consumption. replace a and b with appropriate argument\n",
    "\n",
    "`learn more plotting functions:` : <a href=\"https://omegalpes.readthedocs.io/en/latest/api/general.html#module-omegalpes.general.utils.plots\">plots module</a>\n",
    "    \n"
   ]
  },
  {
   "cell_type": "code",
   "execution_count": null,
   "metadata": {},
   "outputs": [],
   "source": [
    "sum_quantities_in_quantity(quantities_list=[a,b])"
   ]
  },
  {
   "cell_type": "markdown",
   "metadata": {},
   "source": [
    "    Did you manage to find total quantity of consumption ? Let's do this second challenge!"
   ]
  },
  {
   "cell_type": "code",
   "execution_count": 3,
   "metadata": {},
   "outputs": [
    {
     "data": {
      "application/vnd.jupyter.widget-view+json": {
       "model_id": "dccbdfbc4109416496292855b9095119",
       "version_major": 2,
       "version_minor": 0
      },
      "text/plain": [
       "VBox(children=(Output(layout=Layout(width='auto')), HBox(children=(Output(layout=Layout(width='auto')), Text(v…"
      ]
     },
     "metadata": {},
     "output_type": "display_data"
    }
   ],
   "source": [
    "%run quiz_tutorial22"
   ]
  },
  {
   "cell_type": "markdown",
   "metadata": {},
   "source": [
    "## Discussion\n",
    "    What do you think about the result? By adding storage and changing consumption pattern we are able to minimize import of the grid. Do you know how much import has been reduced? Try finding out yourself below and compare with previous result!"
   ]
  },
  {
   "cell_type": "code",
   "execution_count": null,
   "metadata": {},
   "outputs": [],
   "source": [
    "sum(GRID_IMPORT.p.get_value())"
   ]
  },
  {
   "cell_type": "markdown",
   "metadata": {},
   "source": [
    "    Let us return to the dashboard so we can progress more in finding optimal solution for John with the other level 2 Tuto-rial. Don't forget to collect 2 level 2 magic words in this tutorial by finishing tasks in order to unlock stuffs!\n",
    "    \n",
    "`[Link]` <a href=\"./OmegAlpes_tutorial.ipynb\">Dashboard</a><br><br>"
   ]
  },
  {
   "cell_type": "code",
   "execution_count": null,
   "metadata": {},
   "outputs": [],
   "source": []
  }
 ],
 "metadata": {
  "kernelspec": {
   "display_name": "Python 3",
   "language": "python",
   "name": "python3"
  },
  "language_info": {
   "codemirror_mode": {
    "name": "ipython",
    "version": 3
   },
   "file_extension": ".py",
   "mimetype": "text/x-python",
   "name": "python",
   "nbconvert_exporter": "python",
   "pygments_lexer": "ipython3",
   "version": "3.8.3"
  },
  "toc": {
   "base_numbering": 1,
   "nav_menu": {},
   "number_sections": true,
   "sideBar": true,
   "skip_h1_title": false,
   "title_cell": "Table of Contents",
   "title_sidebar": "Contents",
   "toc_cell": false,
   "toc_position": {
    "height": "calc(100% - 180px)",
    "left": "10px",
    "top": "150px",
    "width": "307.2px"
   },
   "toc_section_display": true,
   "toc_window_display": true
  }
 },
 "nbformat": 4,
 "nbformat_minor": 4
}
