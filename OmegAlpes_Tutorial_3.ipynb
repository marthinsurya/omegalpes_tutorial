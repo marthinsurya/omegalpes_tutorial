{
 "cells": [
  {
   "cell_type": "markdown",
   "metadata": {},
   "source": [
    "# <font color=blue>OmegAlpes Tutorial 3 - Grid Cost and Storage\n",
    "`Prerequisite :` <a href=\"./OmegAlpes_Tutorial_1.ipynb\">Tutorial 1,</a>\n",
    "    <a href=\"./OmegAlpes_Tutorial_2.ipynb\">Tutorial 2</a><br><br><br>\n",
    "<font color=red>There are some parts in this tutorial that has already been covered in previous Tutorial 1 and will not be covered here. Energy storage part is covered in Tutorial 2</font>\n",
    "    \n",
    "    In this tutorial, we will learn to add production cost components and use it as optimisation objective. With these feature, we will explore the suggestion to consider cost of production in reducing his electricity bill.\n",
    "    \n",
    "   `Learning outcomes :`\n",
    ">1. New vector in the model that is non-energy : production cost\n",
    "2. New attribute for Variable Units\n",
    "3. New kind of optimisation objective\n",
    "   \n",
    "    At the end of this tutorial, you will be able to recommend which grid to choose and when to charge-discharge storage\n",
    "\n",
    "<img src=\"./images/3-combine.jpg\" width=\"600\" height=\"300\" >"
   ]
  },
  {
   "cell_type": "code",
   "execution_count": null,
   "metadata": {},
   "outputs": [],
   "source": [
    "from Python_Scripts.Omegalpes_tutorial_3 import *"
   ]
  },
  {
   "cell_type": "markdown",
   "metadata": {},
   "source": [
    "    Similar to previous Tutorial 1. Try to have similar steps to have a good programming structure."
   ]
  },
  {
   "cell_type": "markdown",
   "metadata": {},
   "source": [
    "## Create time unit   "
   ]
  },
  {
   "cell_type": "code",
   "execution_count": null,
   "metadata": {},
   "outputs": [],
   "source": [
    "time = TimeUnit(periods=24*1, dt=1)"
   ]
  },
  {
   "cell_type": "markdown",
   "metadata": {},
   "source": [
    "    where :\n",
    "    dt = 1 hour / 60 minutes since all of the production and consumption data is in 1-hour timestep\n",
    "    period = 24 hours. You can have longer period if the data is available.\n",
    "    \n",
    "`to learn more in detail` : <a href=\"https://omegalpes.readthedocs.io/en/latest/api/general.html#module-omegalpes.general.time\">time module</a>"
   ]
  },
  {
   "cell_type": "markdown",
   "metadata": {},
   "source": [
    "## Create empty model\n",
    "    "
   ]
  },
  {
   "cell_type": "code",
   "execution_count": null,
   "metadata": {},
   "outputs": [],
   "source": [
    "model = OptimisationModel(time=time, name='tutorial_3')"
   ]
  },
  {
   "cell_type": "markdown",
   "metadata": {},
   "source": [
    "  \n",
    "`to learn more in detail` : <a href=\"https://omegalpes.readthedocs.io/en/latest/api/general.html#module-omegalpes.general.optimisation.model\">model module</a>"
   ]
  },
  {
   "cell_type": "markdown",
   "metadata": {},
   "source": [
    "## Create energy unit"
   ]
  },
  {
   "cell_type": "markdown",
   "metadata": {},
   "source": [
    "### Create fixed energy units"
   ]
  },
  {
   "cell_type": "code",
   "execution_count": null,
   "metadata": {},
   "outputs": [],
   "source": [
    "consumption_profile = open(\"data/house tot con 24 kwh.csv\", \"r\")\n",
    "\n",
    "house_cons_file = [p for p in map(float, consumption_profile)]\n",
    "\n",
    "house_consumption = FixedConsumptionUnit(time, 'johns_consumption', p=house_cons_file, energy_type=elec)"
   ]
  },
  {
   "cell_type": "code",
   "execution_count": null,
   "metadata": {},
   "outputs": [],
   "source": [
    "pv_profile = open(\"data/pv prod 24 kwh.csv\", \"r\")\n",
    "\n",
    "pv_production_daily = [p for p in map(float, pv_profile)]\n",
    "\n",
    "pv_production = FixedProductionUnit(time, name='pv_production', p=pv_production_daily ,energy_type=elec)"
   ]
  },
  {
   "cell_type": "markdown",
   "metadata": {},
   "source": [
    "    Now, we have created 2 fixed energy units\n",
    "<img src=\"./images/1-fixed_units.JPG\" width=\"550\" height=\"150\">"
   ]
  },
  {
   "cell_type": "markdown",
   "metadata": {},
   "source": [
    "### Create variable energy units\n",
    "     As mentioned at the beginning of this tutorial, we are going to give recommendation base on operating cost. So, we will add this attribute into these Variable units.\n",
    "     \n",
    "     First, let's start with creating grid export."
   ]
  },
  {
   "cell_type": "code",
   "execution_count": null,
   "metadata": {},
   "outputs": [],
   "source": [
    "#Hourly operating cost data\n",
    "export_cost = [50, 50, 50, 50, 50,50, 50, 50, 50, 50, 50, 80, 80, 20, 30,50, 50, 50, 50, 50,50, 50, 50, 50]\n",
    "                    \n",
    "grid_export = VariableConsumptionUnit(time, 'grid_export', energy_type=elec, p_min=0,operating_cost=export_cost)"
   ]
  },
  {
   "cell_type": "markdown",
   "metadata": {},
   "source": [
    "    Next, we create grid import where there are 2 options to choose (grid a and grid b)."
   ]
  },
  {
   "cell_type": "code",
   "execution_count": null,
   "metadata": {},
   "outputs": [],
   "source": [
    "# Hourly operating costs for the first production unit\n",
    "op_cost_a = [41.1, 41.295, 43.125, 51.96, 58.275,62.955, 58.08, 57.705, 59.94, 52.8, 53.865,\n",
    "             46.545, 41.4, 39, 36.87,36.6, 39.15, 43.71, 45.195, 47.04, 44.28, 39.975, 34.815, 28.38]   \n",
    "                \n",
    "# Hourly operating costs for the second production unit\n",
    "op_cost_b = [58.82, 58.23, 51.95, 47.27, 45.49,44.5, 44.5, 44.72, 44.22, 42.06,45.7,\n",
    "             47.91, 49.57, 48.69, 46.91, 46.51, 46.52, 51.59, 59.07, 62.1, 56.26, 55, 56.02, 52]\n",
    "      \n",
    "grid_production_a = VariableProductionUnit(time=time,\n",
    "                                          name='grid_production_A',\n",
    "                                          energy_type=elec,\n",
    "                                          operating_cost=op_cost_a)\n",
    "\n",
    "\n",
    "grid_production_b = VariableProductionUnit(time=time,\n",
    "                                           name='grid_production_B',\n",
    "                                           energy_type=elec,\n",
    "                                           operating_cost=op_cost_b)"
   ]
  },
  {
   "cell_type": "markdown",
   "metadata": {},
   "source": [
    "`to learn more in detail` : <a href=\"https://omegalpes.readthedocs.io/en/latest/api/energy_package.html#module-omegalpes.energy.energy_nodes\">energy nodes module</a>"
   ]
  },
  {
   "cell_type": "markdown",
   "metadata": {},
   "source": [
    "    Now, we have three 3 energy units to add to our model.\n",
    "<img src=\"./images/3-variable_units.JPG\" width=\"550\" height=\"150\">\n",
    "<br>"
   ]
  },
  {
   "cell_type": "markdown",
   "metadata": {},
   "source": [
    "### Create storage units"
   ]
  },
  {
   "cell_type": "code",
   "execution_count": null,
   "metadata": {},
   "outputs": [],
   "source": [
    "storage = StorageUnit(time, name='storage', pc_max=1, pd_max=1, soc_min=0.1, soc_max=0.9, self_disch=0.01, ef_is_e0=True)"
   ]
  },
  {
   "cell_type": "markdown",
   "metadata": {},
   "source": [
    "`to learn more in detail` : <a href=\"https://omegalpes.readthedocs.io/en/latest/api/energy_package.html#module-omegalpes.energy.units.storage_units\">storage units module</a>\n",
    "\n",
    "    Now, we add storage unit component in our model\n",
    "    \n",
    "<img src=\"./images/3-storage_unit.JPG\" width=\"550\" height=\"150\">\n",
    "<br>"
   ]
  },
  {
   "cell_type": "markdown",
   "metadata": {},
   "source": [
    "## Define model objective\n",
    "    The objective will be different since we want to compare cost. So, we will be using minimize_operating_cost() objective. Now, how should we write it ?"
   ]
  },
  {
   "cell_type": "code",
   "execution_count": null,
   "metadata": {},
   "outputs": [],
   "source": [
    "%run quiz_tutorial31"
   ]
  },
  {
   "cell_type": "code",
   "execution_count": null,
   "metadata": {},
   "outputs": [],
   "source": [
    "#write 2 model objectives line here"
   ]
  },
  {
   "cell_type": "markdown",
   "metadata": {},
   "source": [
    "`learn more optimization objective functions for energy units:`<a href=\"https://omegalpes.readthedocs.io/en/latest/api/energy_package.html#module-omegalpes.energy.units.production_units\">production units module</a> & <a href=\"https://omegalpes.readthedocs.io/en/latest/api/energy_package.html#module-omegalpes.energy.units.consumption_units\"> consumption units module</a>"
   ]
  },
  {
   "cell_type": "markdown",
   "metadata": {},
   "source": [
    "## Create energy nodes"
   ]
  },
  {
   "cell_type": "code",
   "execution_count": null,
   "metadata": {},
   "outputs": [],
   "source": [
    "elec_node = EnergyNode(time, name=\"electrical_node\", energy_type=elec)"
   ]
  },
  {
   "cell_type": "markdown",
   "metadata": {},
   "source": [
    "    Then, we connect energy units to the energy node we create, both grid A and B included"
   ]
  },
  {
   "cell_type": "code",
   "execution_count": null,
   "metadata": {},
   "outputs": [],
   "source": [
    "elec_node.connect_units(pv_production, house_consumption, grid_production_a, grid_production_b, grid_export, storage)"
   ]
  },
  {
   "cell_type": "markdown",
   "metadata": {},
   "source": [
    "    Great! Now, we have created our energy system\n",
    "<img src=\"./images/3-node.JPG\" width=\"700\" height=\"300\">"
   ]
  },
  {
   "cell_type": "markdown",
   "metadata": {},
   "source": [
    "\n",
    "\n",
    "`to learn more in detail` : <a href=\"https://omegalpes.readthedocs.io/en/latest/api/energy_package.html#module-omegalpes.energy.energy_nodes\">energy nodes module</a>"
   ]
  },
  {
   "cell_type": "markdown",
   "metadata": {},
   "source": [
    "## Add the energy nodes to the optimisation model\n",
    "    Remember to check that the timeunit is the same for the model and all the units"
   ]
  },
  {
   "cell_type": "code",
   "execution_count": null,
   "metadata": {},
   "outputs": [],
   "source": [
    "model.add_nodes(elec_node)"
   ]
  },
  {
   "cell_type": "markdown",
   "metadata": {},
   "source": [
    "\n",
    "\n",
    "`to learn more in detail` : <a href=\"https://omegalpes.readthedocs.io/en/latest/api/general.html#module-omegalpes.general.optimisation.model\">optimisation model</a>"
   ]
  },
  {
   "cell_type": "markdown",
   "metadata": {},
   "source": [
    "## Launch the optimisation"
   ]
  },
  {
   "cell_type": "code",
   "execution_count": null,
   "metadata": {},
   "outputs": [],
   "source": [
    "model.solve_and_update()"
   ]
  },
  {
   "cell_type": "markdown",
   "metadata": {},
   "source": [
    "\n",
    "\n",
    "`to learn more in detail` : <a href=\"https://omegalpes.readthedocs.io/en/latest/api/general.html#module-omegalpes.general.optimisation.model\">optimisation model</a>"
   ]
  },
  {
   "cell_type": "markdown",
   "metadata": {},
   "source": [
    "## Plot result"
   ]
  },
  {
   "cell_type": "code",
   "execution_count": null,
   "metadata": {},
   "outputs": [],
   "source": [
    "plot_node_energetic_flows(elec_node)"
   ]
  },
  {
   "cell_type": "markdown",
   "metadata": {},
   "source": [
    "`learn more plotting functions:` : <a href=\"https://omegalpes.readthedocs.io/en/latest/api/general.html#module-omegalpes.general.utils.plots\">plots module</a>"
   ]
  },
  {
   "cell_type": "markdown",
   "metadata": {},
   "source": [
    "## Result processing\n",
    "    Showing the result"
   ]
  },
  {
   "cell_type": "code",
   "execution_count": null,
   "metadata": {},
   "outputs": [],
   "source": [
    "plt.show()"
   ]
  },
  {
   "cell_type": "markdown",
   "metadata": {},
   "source": [
    "    After Tutorial 2, you should have acquired the skill of sum_quantities_in_quantity() function. Let's use your new skill to solve this challenge!"
   ]
  },
  {
   "cell_type": "code",
   "execution_count": 1,
   "metadata": {},
   "outputs": [
    {
     "data": {
      "application/vnd.jupyter.widget-view+json": {
       "model_id": "91d2897a81ba4a1c9613336d9372855c",
       "version_major": 2,
       "version_minor": 0
      },
      "text/plain": [
       "VBox(children=(Output(layout=Layout(width='auto')), HBox(children=(Output(layout=Layout(width='auto')), Text(v…"
      ]
     },
     "metadata": {},
     "output_type": "display_data"
    }
   ],
   "source": [
    "%run quiz_tutorial32"
   ]
  },
  {
   "cell_type": "code",
   "execution_count": null,
   "metadata": {},
   "outputs": [],
   "source": [
    "#work on your challenge here"
   ]
  },
  {
   "cell_type": "markdown",
   "metadata": {},
   "source": [
    "`learn more plotting functions:` : <a href=\"https://omegalpes.readthedocs.io/en/latest/api/general.html#module-omegalpes.general.utils.plots\">plots module</a>   \n"
   ]
  },
  {
   "cell_type": "markdown",
   "metadata": {},
   "source": [
    "## Discussion\n",
    "    What do you think about the result? By adding new kind of objectives, OmegAlpes considers not only energy surplus but also the cost in the event of charging battery. This is very handful when you have multiple objectives to achieve.\n",
    "    \n",
    "    Do you know how much import has been reduced? Try finding out yourself below and compare with other results! How about combining all the level 2 skills you get and propose a better recommendation for John!"
   ]
  },
  {
   "cell_type": "code",
   "execution_count": null,
   "metadata": {},
   "outputs": [],
   "source": []
  },
  {
   "cell_type": "markdown",
   "metadata": {},
   "source": [
    "    Let us return to the dashboard so we can progress more in finding optimal solution for John with the other level 2 Tuto-rial. Don't forget to collect 2 level 2 magic words in this tutorial by finishing tasks in order to unlock stuffs!\n",
    "    \n",
    "`[Link]` <a href=\"./OmegAlpes_tutorial.ipynb\">Dashboard</a><br><br>"
   ]
  },
  {
   "cell_type": "code",
   "execution_count": null,
   "metadata": {},
   "outputs": [],
   "source": []
  }
 ],
 "metadata": {
  "kernelspec": {
   "display_name": "Python 3",
   "language": "python",
   "name": "python3"
  },
  "language_info": {
   "codemirror_mode": {
    "name": "ipython",
    "version": 3
   },
   "file_extension": ".py",
   "mimetype": "text/x-python",
   "name": "python",
   "nbconvert_exporter": "python",
   "pygments_lexer": "ipython3",
   "version": "3.8.3"
  },
  "toc": {
   "base_numbering": 1,
   "nav_menu": {},
   "number_sections": true,
   "sideBar": true,
   "skip_h1_title": false,
   "title_cell": "Table of Contents",
   "title_sidebar": "Contents",
   "toc_cell": false,
   "toc_position": {
    "height": "calc(100% - 180px)",
    "left": "10px",
    "top": "150px",
    "width": "307.2px"
   },
   "toc_section_display": true,
   "toc_window_display": true
  }
 },
 "nbformat": 4,
 "nbformat_minor": 4
}
