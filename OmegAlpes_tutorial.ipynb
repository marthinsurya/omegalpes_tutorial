{
 "cells": [
  {
   "cell_type": "markdown",
   "metadata": {},
   "source": [
    "<font color=pink, size=20><b>OmegAlpes Tutorial</b></font><br>"
   ]
  },
  {
   "cell_type": "markdown",
   "metadata": {},
   "source": [
    "\n",
    "# <font color=blue>Starting with OmegAlpes\n",
    "    This tutorial will guide you towards the mastery of OmegAlpes in simulating various scenarios. At the end of this tutor-ial, you will be able to integrate multiple constraints in your energy model for optimization purpose. Some notable con-straints that you will learn are:\n",
    "    \n",
    "    - Cost constraints\n",
    "    - Storage integration\n",
    "    - Actors constraints\n",
    "    - Multiple energy model (heat and electricity)\n",
    "\n",
    "    Before we start, let's get familiar with the case study we are going to work on.\n",
    "    \n",
    "[`[Study case]` Video](https://www.powtoon.com/embed/e3P9hvlJPb7/ \"Click to watch the video!\")\n",
    "    \n",
    "    Let's get started by modelling her home !\n",
    "   \n",
    "\n",
    "`[Tutorial 1]` <a href=\"./OmegAlpes_Tutorial_1.ipynb\">Home Modelling</a><br><br>\n",
    "    "
   ]
  },
  {
   "cell_type": "markdown",
   "metadata": {},
   "source": [
    "# <font color=blue>Optimisation simulation\n",
    "    \n",
    "    After finishing tutorial 1, you already cleared the first level of this tutorial. You already have the skill to create  simple simulation. Let us review your current skill and how you can levelling up in the next tutorials.\n",
    "    \n",
    "`Current skills :`<br>\n",
    "    1. General understanding of the model components\n",
    "    You acquired the skill to make basic energy units. Level up your skill in Tutorial 2 to acquire the ability to add vari-ety of useful components, such as battery and shiftable load ! The possibility once you acquire this skill is fascinating:\n",
    "\n",
    "<img src=\"./images/2-storage.JPG\" width=\"550\" height=\"150\" >\n",
    "\n",
    "    2. Processing optimisation result\n",
    "    You acquired the skill to optimize result with one objective (minimize grid import). Level up your skill in Tutorial 3  to acquire the ability to add more objectives, such as minimize cost. You can combine two of these designs to find opti-mal solution!\n",
    "    \n",
    "<img src=\"./images/3-combine.jpg\" width=\"600\" height=\"150\" >\n",
    "    \n",
    "    3. Model an energy system with OmegAlpes\n",
    "    You acquired the skill to model a simple energy system with electricity. Level up your skill in Tutorial 4 to acquire the ability to add heat energy into your model !\n",
    "    \n",
    "<img src=\"./images/4-heat.JPG\" width=\"700\" height=\"150\" >\n",
    "    \n",
    "<br>    \n",
    " To acquire these skills : `[Tutorial Level 2]` <br>\n",
    "    <a href=\"./OmegAlpes_Tutorial_2.ipynb\">Tutorial 2 - Battery and Shiftable consumption</a><br>\n",
    "    <a href=\"./OmegAlpes_Tutorial_3.ipynb\">Tutorial 3 - Grid cost and Storage</a><br>\n",
    "    <a href=\"./OmegAlpes_Tutorial_4.ipynb\">Tutorial 4 - Heat and Electricity combined system</a><br>"
   ]
  },
  {
   "cell_type": "markdown",
   "metadata": {},
   "source": [
    "# <font color=blue>Further Study"
   ]
  },
  {
   "cell_type": "markdown",
   "metadata": {},
   "source": [
    "    There are a lot more capabilities of OmegAlpes that you can explore further. You can learn further by finishing this last challenge!"
   ]
  },
  {
   "cell_type": "code",
   "execution_count": 2,
   "metadata": {},
   "outputs": [
    {
     "data": {
      "application/vnd.jupyter.widget-view+json": {
       "model_id": "e2379ea52a594537812dbfb8744bf004",
       "version_major": 2,
       "version_minor": 0
      },
      "text/plain": [
       "VBox(children=(Output(layout=Layout(width='auto')), HBox(children=(Output(layout=Layout(width='auto')), Text(v…"
      ]
     },
     "metadata": {},
     "output_type": "display_data"
    }
   ],
   "source": [
    "%run quiz_tutorial50"
   ]
  },
  {
   "cell_type": "code",
   "execution_count": 1,
   "metadata": {},
   "outputs": [
    {
     "ename": "NameError",
     "evalue": "name 'HTML' is not defined",
     "output_type": "error",
     "traceback": [
      "\u001b[0;31m---------------------------------------------------------------------------\u001b[0m",
      "\u001b[0;31mNameError\u001b[0m                                 Traceback (most recent call last)",
      "\u001b[0;32m<ipython-input-1-33fba677d757>\u001b[0m in \u001b[0;36m<module>\u001b[0;34m\u001b[0m\n\u001b[0;32m----> 1\u001b[0;31m \u001b[0mHTML\u001b[0m\u001b[0;34m(\u001b[0m\u001b[0;34m'<iframe width=\"x\" height=\"y\" src=\"https://www.powtoon.com/embed/dA6iY7hMHgu/\" frameborder=\"0\" allow=\"accelerometer; autoplay; encrypted-media; gyroscope; picture-in-picture\" allowfullscreen></iframe>'\u001b[0m\u001b[0;34m)\u001b[0m\u001b[0;34m\u001b[0m\u001b[0;34m\u001b[0m\u001b[0m\n\u001b[0m",
      "\u001b[0;31mNameError\u001b[0m: name 'HTML' is not defined"
     ]
    }
   ],
   "source": [
    "HTML('<iframe width=\"x\" height=\"y\" src=\"https://www.powtoon.com/embed/dA6iY7hMHgu/\" frameborder=\"0\" allow=\"accelerometer; autoplay; encrypted-media; gyroscope; picture-in-picture\" allowfullscreen></iframe>')"
   ]
  },
  {
   "cell_type": "code",
   "execution_count": null,
   "metadata": {},
   "outputs": [],
   "source": []
  }
 ],
 "metadata": {
  "kernelspec": {
   "display_name": "Python 3",
   "language": "python",
   "name": "python3"
  },
  "language_info": {
   "codemirror_mode": {
    "name": "ipython",
    "version": 3
   },
   "file_extension": ".py",
   "mimetype": "text/x-python",
   "name": "python",
   "nbconvert_exporter": "python",
   "pygments_lexer": "ipython3",
   "version": "3.8.3"
  },
  "toc": {
   "base_numbering": 1,
   "nav_menu": {},
   "number_sections": true,
   "sideBar": true,
   "skip_h1_title": false,
   "title_cell": "Table of Contents",
   "title_sidebar": "Contents",
   "toc_cell": false,
   "toc_position": {
    "height": "calc(100% - 180px)",
    "left": "10px",
    "top": "150px",
    "width": "203.2px"
   },
   "toc_section_display": true,
   "toc_window_display": true
  }
 },
 "nbformat": 4,
 "nbformat_minor": 4
}
