{
 "cells": [
  {
   "cell_type": "markdown",
   "metadata": {},
   "source": [
    "<font color=pink, size=6><b>OmegAlpes Tutorial 1: <br>Create optimisation model and Energy balance</b></font><br>\n",
    "   \n",
    "    In this tutorial, we will learn how to create optimisation model and power balance simulation in OmegAlpes. \n",
    "\n",
    "`Learning outcomes :`\n",
    ">1. Model an energy system with OmegAlpes\n",
    "2. General understanding of the model components, such as :\n",
    "    - Time unit\n",
    "    - Various type of energy units\n",
    "    - Input data\n",
    "    - Defining model objective\n",
    "3. Processing optimisation result\n",
    "\n",
    "    At the end of this tutorial, you will be able to find out how much electricity Jane is importing from the grid to supply her home. \n",
    "\n",
    "# Creating Optimisation model \n",
    "\n",
    "    Let's start with creating an OmegAlpes model of Jane's home for us to simulate.\n",
    "    \n",
    "    She describes to us her home has several home appliances, with PV installed on top of her home.\n",
    "\n",
    "<img src=\"./images/electricity part.JPG\">\n",
    "    <br>\n",
    "    \n",
    "    She gives us her home electricity usage and pv production profile\n",
    "    \n",
    "<img src=\"./images/janes cons prod.JPG\" width=\"550\" height=\"150\" alt=\"Graph is produced using OmegAlpes\">\n",
    "<br>\n",
    "    \n",
    "    \n",
    "    Let's start modelling !\n",
    "   \n",
    "    "
   ]
  },
  {
   "cell_type": "code",
   "execution_count": 3,
   "metadata": {
    "scrolled": true
   },
   "outputs": [
    {
     "data": {
      "application/javascript": [
       "Jupyter.notebook.execute_cells([25,47])"
      ],
      "text/plain": [
       "<IPython.core.display.Javascript object>"
      ]
     },
     "execution_count": 3,
     "metadata": {},
     "output_type": "execute_result"
    }
   ],
   "source": [
    "from IPython.display import Javascript\n",
    "Javascript(\"Jupyter.notebook.execute_cells([25,47])\")"
   ]
  },
  {
   "cell_type": "code",
   "execution_count": null,
   "metadata": {
    "scrolled": true
   },
   "outputs": [],
   "source": [
    "from Python_Scripts.Omegalpes_tutorial_1 import *"
   ]
  },
  {
   "cell_type": "markdown",
   "metadata": {},
   "source": [
    "## Create time unit\n",
    "    First step, we create timeunit.\n",
    "    This module creates the Time object that defines the studied time period.\n",
    "    "
   ]
  },
  {
   "cell_type": "code",
   "execution_count": null,
   "metadata": {
    "scrolled": true
   },
   "outputs": [],
   "source": [
    "time = TimeUnit(periods=24*1, dt=1)"
   ]
  },
  {
   "cell_type": "markdown",
   "metadata": {},
   "source": [
    "    where :\n",
    "    dt = delta t between values in hours (int or float), i.e. 1/6 will be 10 minutes. and 1 in this case will be 60 minutes\n",
    "    period = 24*dt which means we will study the period of 24 hours\n",
    "    \n",
    "`to learn more in detail` : <a href=\"https://omegalpes.readthedocs.io/en/latest/api/general.html#module-omegalpes.general.time\">time module</a>"
   ]
  },
  {
   "cell_type": "markdown",
   "metadata": {},
   "source": [
    "## Create empty model\n",
    "    Second step, we create an empty model where we will fill the optimization model.\n",
    "    "
   ]
  },
  {
   "cell_type": "code",
   "execution_count": null,
   "metadata": {
    "scrolled": true
   },
   "outputs": [],
   "source": [
    "model = OptimisationModel(time=time, name='tutorial_1')"
   ]
  },
  {
   "cell_type": "markdown",
   "metadata": {},
   "source": [
    "    time in this model will refer to the timeunit we set at first step\n",
    "    \n",
    "    \n",
    "`to learn more in detail` : <a href=\"https://omegalpes.readthedocs.io/en/latest/api/general.html#module-omegalpes.general.optimisation.model\">model module</a>"
   ]
  },
  {
   "cell_type": "markdown",
   "metadata": {},
   "source": [
    "## Create energy unit\n",
    "    Third step, we create energy units which mainly consist of 3 major types/classes :\n",
    "        1. Production units\n",
    "        2. Consumption units\n",
    "        3. Storage units\n",
    "    In this level, we will learn how to utilize the first two.\n",
    "    \n",
    "    These classes have multiple variety of classes, some of the commonly used are:\n",
    "        1. FixedEnergyUnit: energy unit with a fixed power profile\n",
    "        2. VariableEnergyUnit: energy unit with a variable power profile\n",
    "    We will learn how to create these units in this tutorial\n",
    "\n",
    "`to learn more in detail` : <a href=\"https://omegalpes.readthedocs.io/en/latest/api/energy_package.html#module-omegalpes.energy.units.energy_units\">energy units module</a>"
   ]
  },
  {
   "cell_type": "markdown",
   "metadata": {},
   "source": [
    "### Create fixed energy units\n",
    "    We will start with fixed energy units with fixed power profile data we got from John.\n",
    "    \n",
    "    First, we start with consumption units. As its name implies, this energy units have power flow direction always ‘in’.\n",
    "    \n",
    "    We will import the home consumptions data from the csv file provided."
   ]
  },
  {
   "cell_type": "code",
   "execution_count": null,
   "metadata": {
    "scrolled": true
   },
   "outputs": [],
   "source": [
    "consumption_profile = open(\"data/house tot con 24 kwh.csv\", \"r\")\n",
    "\n",
    "house_cons_file = [p for p in map(float, consumption_profile)]"
   ]
  },
  {
   "cell_type": "markdown",
   "metadata": {},
   "source": [
    "    Then, we create the consumption unit.\n",
    "    \n",
    "    We define it as FixedConsumptionUnit since it has fixed load profile."
   ]
  },
  {
   "cell_type": "code",
   "execution_count": null,
   "metadata": {
    "scrolled": true
   },
   "outputs": [],
   "source": [
    "house_consumption = FixedConsumptionUnit(time, 'house_consumption', p=house_cons_file, energy_type=elec)"
   ]
  },
  {
   "cell_type": "markdown",
   "metadata": {},
   "source": [
    "    This consumption unit has attributes :\n",
    "    - time which refers to timeunit\n",
    "    - label as \"house_consumption\" which will be shown in the plot result\n",
    "    - p (instantaneous power demand) which refers to the fixed load profile\n",
    "    - energy_type = electrical; this is important to define when we have multiple energy types such as electrical and heat"
   ]
  },
  {
   "cell_type": "markdown",
   "metadata": {},
   "source": [
    "***\n",
    "    Next, we create production units. This energy units have power flow direction always ‘out’.\n",
    "    \n",
    "    We will import the pv production data from the csv file provided.   "
   ]
  },
  {
   "cell_type": "code",
   "execution_count": null,
   "metadata": {
    "scrolled": true
   },
   "outputs": [],
   "source": [
    "pv_profile = open(\"data/pv prod 24 kwh.csv\", \"r\")\n",
    "\n",
    "pv_production_daily = [p for p in map(float, pv_profile)]"
   ]
  },
  {
   "cell_type": "markdown",
   "metadata": {},
   "source": [
    "    Then, we create the production unit.\n",
    "    \n",
    "    We define it as FixedProductionUnit since it has fixed production profile."
   ]
  },
  {
   "cell_type": "code",
   "execution_count": null,
   "metadata": {
    "scrolled": true
   },
   "outputs": [],
   "source": [
    "pv_production = FixedProductionUnit(time, name='pv_production', p=pv_production_daily ,energy_type=elec)"
   ]
  },
  {
   "cell_type": "markdown",
   "metadata": {},
   "source": [
    "    This production unit has attributes similar to consumption units :\n",
    "    - time always refer to timeunit\n",
    "    - label as \"pv_production\"\n",
    "    - p = instantaneous power production known by advance loaded from the csv file reference\n",
    "    - energy_type = electrical; which is important to define\n",
    "    \n",
    "    Now, we have created 2 fixed energy units\n",
    "<img src=\"./images/1-fixed_units.JPG\" width=\"550\" height=\"150\">"
   ]
  },
  {
   "cell_type": "markdown",
   "metadata": {},
   "source": [
    "### Create variable energy units\n",
    "    After creating fixed energy units, we will create variable energy units. VariableEnergyUnit is an energy unit with a va=riable power profile following the constraints we set and optimization result.\n",
    "    \n",
    "    We create VariableProductionUnit and VariableConsumptionUnit, which allow a variation of power between p_min and p_max."
   ]
  },
  {
   "cell_type": "code",
   "execution_count": null,
   "metadata": {
    "scrolled": true
   },
   "outputs": [],
   "source": [
    "grid_import = VariableProductionUnit(time, 'grid_import', energy_type=elec, p_min=0)\n",
    "\n",
    "grid_export = VariableConsumptionUnit(time, 'grid_export', energy_type=elec, p_min=0)"
   ]
  },
  {
   "cell_type": "markdown",
   "metadata": {},
   "source": [
    "    This VariableProductionUnit and VariableConsumptionUnit will represent electricity import and export respectively.\n",
    "    \n",
    "    These variable energy units have attributes:\n",
    "    - time refers to timeunit as always\n",
    "    - labels for result\n",
    "    - energy_type = electrical; which is important to define\n",
    "    - p_min (minimal instantaneous power production) = 0, so that it won't go to negative value\n",
    "    - p_max (maximal instantaneous power production) is not defined, so there is no maximal value restriction\n",
    "    \n",
    "    Now, we have added another 2 variable energy units\n",
    "<img src=\"./images/1-variable_units.JPG\" width=\"550\" height=\"150\">\n",
    "<br>"
   ]
  },
  {
   "cell_type": "markdown",
   "metadata": {},
   "source": [
    "\n",
    "\n",
    "`to learn more in detail` : <a href=\"https://omegalpes.readthedocs.io/en/latest/api/energy_package.html#module-omegalpes.energy.units.production_units\">production units module</a> & <a href=\"https://omegalpes.readthedocs.io/en/latest/api/energy_package.html#module-omegalpes.energy.units.consumption_units\">consumption units module</a>"
   ]
  },
  {
   "cell_type": "markdown",
   "metadata": {},
   "source": [
    "## Review\n",
    "    Good job! We have created all the necessary components for our energy model.\n",
    "    Let us do some reviewing by running below challenge."
   ]
  },
  {
   "cell_type": "code",
   "execution_count": 4,
   "metadata": {
    "hide_input": true,
    "scrolled": true,
    "slideshow": {
     "slide_type": "-"
    }
   },
   "outputs": [
    {
     "name": "stdout",
     "output_type": "stream",
     "text": [
      "\u001b[1m If we have pv production profile data, what can we use it for? \u001b[0m\n"
     ]
    },
    {
     "data": {
      "application/vnd.jupyter.widget-view+json": {
       "model_id": "7b38abfbb0254443a50b93013f4803dc",
       "version_major": 2,
       "version_minor": 0
      },
      "text/plain": [
       "RadioButtons(options=(('TimeUnit', 1), ('FixedConsumptionUnit', 2), ('FixedProductionUnit', 3), ('VariableCons…"
      ]
     },
     "metadata": {},
     "output_type": "display_data"
    },
    {
     "data": {
      "application/vnd.jupyter.widget-view+json": {
       "model_id": "9fc5a39f6b0247a292dde74c5bf54381",
       "version_major": 2,
       "version_minor": 0
      },
      "text/plain": [
       "Button(description='check answer', style=ButtonStyle())"
      ]
     },
     "metadata": {},
     "output_type": "display_data"
    },
    {
     "data": {
      "application/vnd.jupyter.widget-view+json": {
       "model_id": "6b476b1a02a4481d8f1c9e5182989d2d",
       "version_major": 2,
       "version_minor": 0
      },
      "text/plain": [
       "Output()"
      ]
     },
     "metadata": {},
     "output_type": "display_data"
    }
   ],
   "source": [
    "%run quiz_tutorial11"
   ]
  },
  {
   "cell_type": "markdown",
   "metadata": {},
   "source": [
    "## Define model objective\n",
    "    Fourth step, we define the model objective   "
   ]
  },
  {
   "cell_type": "code",
   "execution_count": null,
   "metadata": {
    "scrolled": true
   },
   "outputs": [],
   "source": [
    "grid_import.minimize_production()"
   ]
  },
  {
   "cell_type": "markdown",
   "metadata": {},
   "source": [
    "    OmegAlpes will give the optimization result based on the objectives, which in this case is to minimize production from  grid import (Variable Production Unit).\n",
    "\n",
    "`learn more optimization objective functions for energy units:`<a href=\"https://omegalpes.readthedocs.io/en/latest/api/energy_package.html#module-omegalpes.energy.units.production_units\">production units module</a> & <a href=\"https://omegalpes.readthedocs.io/en/latest/api/energy_package.html#module-omegalpes.energy.units.consumption_units\"> consumption units module</a>"
   ]
  },
  {
   "cell_type": "markdown",
   "metadata": {},
   "source": [
    "## Create energy nodes\n",
    "    Fifth step, we create energy nodes to connect all the energy units we created.\n",
    "    This nodes handles energy transmission between production, consumption, conversion and storage connected to it."
   ]
  },
  {
   "cell_type": "code",
   "execution_count": null,
   "metadata": {
    "scrolled": true
   },
   "outputs": [],
   "source": [
    "elec_node = EnergyNode(time, name=\"electrical_node\", energy_type=elec)"
   ]
  },
  {
   "cell_type": "markdown",
   "metadata": {},
   "source": [
    "    These energy nodes have attributes:\n",
    "    - time refers to timeunit as always\n",
    "    - name label\n",
    "    - energy_type = electrical; which is important to define\n",
    "    \n",
    "    Then, we connect energy units to the energy node we create"
   ]
  },
  {
   "cell_type": "code",
   "execution_count": null,
   "metadata": {
    "scrolled": true
   },
   "outputs": [],
   "source": [
    "elec_node.connect_units(grid_import, grid_export, pv_production,house_consumption)"
   ]
  },
  {
   "cell_type": "markdown",
   "metadata": {},
   "source": [
    "    Great! Now, we have created our energy system\n",
    "<img src=\"./images/1-elec_node.JPG\" width=\"550\" height=\"150\">\n",
    "\n",
    "    As you can see, production units have power flow direction in’ "
   ]
  },
  {
   "cell_type": "markdown",
   "metadata": {},
   "source": [
    "\n",
    "\n",
    "`to learn more in detail` : <a href=\"https://omegalpes.readthedocs.io/en/latest/api/energy_package.html#module-omegalpes.energy.energy_nodes\">energy nodes module</a>"
   ]
  },
  {
   "cell_type": "markdown",
   "metadata": {},
   "source": [
    "## Add the energy nodes to the optimisation model\n",
    "    Sixth step, we add the energy system (nodes and all connected units) to the model we defined at second step\n",
    "    Check that the timeunit is the same for the model and all the units"
   ]
  },
  {
   "cell_type": "code",
   "execution_count": null,
   "metadata": {
    "scrolled": true
   },
   "outputs": [],
   "source": [
    "model.add_nodes(elec_node)"
   ]
  },
  {
   "cell_type": "markdown",
   "metadata": {},
   "source": [
    "\n",
    "\n",
    "`to learn more in detail` : <a href=\"https://omegalpes.readthedocs.io/en/latest/api/general.html#module-omegalpes.general.optimisation.model\">optimisation model</a>"
   ]
  },
  {
   "cell_type": "markdown",
   "metadata": {},
   "source": [
    "## Launch the optimisation\n",
    "    Seventh step, we launch the optimisation for the model we created.\n",
    "    This will solve the optimization model and updates all variables values."
   ]
  },
  {
   "cell_type": "code",
   "execution_count": null,
   "metadata": {
    "scrolled": true
   },
   "outputs": [],
   "source": [
    "model.solve_and_update()"
   ]
  },
  {
   "cell_type": "markdown",
   "metadata": {},
   "source": [
    "\n",
    "\n",
    "`to learn more in detail` : <a href=\"https://omegalpes.readthedocs.io/en/latest/api/general.html#module-omegalpes.general.optimisation.model\">optimisation model</a>"
   ]
  },
  {
   "cell_type": "markdown",
   "metadata": {},
   "source": [
    "## Plot result\n",
    "    Eighth step, we plot the result into graph."
   ]
  },
  {
   "cell_type": "code",
   "execution_count": null,
   "metadata": {
    "scrolled": true
   },
   "outputs": [],
   "source": [
    "plot_node_energetic_flows(elec_node)"
   ]
  },
  {
   "cell_type": "markdown",
   "metadata": {},
   "source": [
    "    The argument we enter is the node we defined at fifth step.\n",
    "    \n",
    "    plot_node_energetic_flows will plot the energy flows that go through an EnergyNode\n",
    "\n",
    "`learn more plotting functions:` : <a href=\"https://omegalpes.readthedocs.io/en/latest/api/general.html#module-omegalpes.general.utils.plots\">plots module</a>"
   ]
  },
  {
   "cell_type": "markdown",
   "metadata": {},
   "source": [
    "## Result processing\n",
    "    There are also some way to process the result aside from plotting.\n",
    "    \n",
    "    For example, if we want to show total house consumption. We can run following line"
   ]
  },
  {
   "cell_type": "code",
   "execution_count": null,
   "metadata": {
    "scrolled": true
   },
   "outputs": [],
   "source": [
    "print('House consumption = {0} kWh'.format(sum(house_consumption.p.get_value())))\n",
    "    "
   ]
  },
  {
   "cell_type": "markdown",
   "metadata": {},
   "source": [
    "    It is time for another challenge! Run following code"
   ]
  },
  {
   "cell_type": "code",
   "execution_count": 5,
   "metadata": {
    "hide_input": true,
    "scrolled": true
   },
   "outputs": [
    {
     "data": {
      "application/vnd.jupyter.widget-view+json": {
       "model_id": "5b9eacd768014378b1b32f8cfc8abe2b",
       "version_major": 2,
       "version_minor": 0
      },
      "text/plain": [
       "VBox(children=(Output(layout=Layout(width='auto')), HBox(children=(Output(layout=Layout(width='auto')), Text(v…"
      ]
     },
     "metadata": {},
     "output_type": "display_data"
    }
   ],
   "source": [
    "%run quiz_tutorial12"
   ]
  },
  {
   "cell_type": "code",
   "execution_count": null,
   "metadata": {
    "scrolled": true
   },
   "outputs": [],
   "source": [
    "#work on your challenge here"
   ]
  },
  {
   "cell_type": "markdown",
   "metadata": {},
   "source": [
    " ***\n",
    "     Now, let us try to display the plot we made earlier by using below function"
   ]
  },
  {
   "cell_type": "code",
   "execution_count": null,
   "metadata": {
    "scrolled": true
   },
   "outputs": [],
   "source": [
    "plt.show()"
   ]
  },
  {
   "cell_type": "markdown",
   "metadata": {},
   "source": [
    "     Let us compare it with the data we got\n",
    "<img src=\"./images/johns cons prod.JPG\" width=\"550\" height=\"150\" alt=\"Graph is produced using OmegAlpes\">\n",
    "\n",
    "    As we can observe in these graphs, OmegAlpes will import when there is a need for electricity and export when there is  surplus. Here is another quiz!"
   ]
  },
  {
   "cell_type": "code",
   "execution_count": null,
   "metadata": {
    "scrolled": true
   },
   "outputs": [],
   "source": [
    "%run quiz_tutorial13"
   ]
  },
  {
   "cell_type": "markdown",
   "metadata": {},
   "source": [
    "## Discussion\n",
    "    As you may have realized, this optimisation model with only PV is not optimal. But don't worry! Next tutorials we will  learn how to add more components to the model to get more optimal results. You may expect some solutions such as adding   storage unit, comparing costs and utilizing thermal energy.\n",
    "\n",
    "    Let us return to the dashboard so we can progress more in finding optimal solution for John. Don't forget to collect 3  magic words in this tutorial by finishing tasks in order to unlock your progress!\n",
    "    \n",
    "`[Link]` <a href=\"./OmegAlpes_tutorial.ipynb\">Dashboard</a><br><br>\n",
    "     "
   ]
  },
  {
   "cell_type": "code",
   "execution_count": null,
   "metadata": {
    "scrolled": true
   },
   "outputs": [],
   "source": []
  }
 ],
 "metadata": {
  "kernelspec": {
   "display_name": "Python 3",
   "language": "python",
   "name": "python3"
  },
  "language_info": {
   "codemirror_mode": {
    "name": "ipython",
    "version": 3
   },
   "file_extension": ".py",
   "mimetype": "text/x-python",
   "name": "python",
   "nbconvert_exporter": "python",
   "pygments_lexer": "ipython3",
   "version": "3.8.3"
  },
  "toc": {
   "base_numbering": 1,
   "nav_menu": {},
   "number_sections": true,
   "sideBar": true,
   "skip_h1_title": false,
   "title_cell": "Table of Contents",
   "title_sidebar": "Contents",
   "toc_cell": false,
   "toc_position": {},
   "toc_section_display": true,
   "toc_window_display": true
  }
 },
 "nbformat": 4,
 "nbformat_minor": 4
}
