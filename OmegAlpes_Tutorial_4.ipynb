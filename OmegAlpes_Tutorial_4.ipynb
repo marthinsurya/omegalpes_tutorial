{
 "cells": [
  {
   "cell_type": "markdown",
   "metadata": {},
   "source": [
    "# <font color=blue>OmegAlpes Tutorial 4 - Heat and Electricity combined system\n",
    "`Prerequisite :` <a href=\"./OmegAlpes_Tutorial_1.ipynb\">Tutorial 1,</a>\n",
    "    <a href=\"./OmegAlpes_Tutorial_2.ipynb\">Tutorial 2</a><br><br><br>\n",
    "    \n",
    "<font color=red>There are some parts in this tutorial that has already been covered in previous Tutorial 1 and 2 and will not be covered here.</font>\n",
    "    \n",
    "    In this tutorial, we will learn to add another type of energy (thermal) into our energy model. With these feature, we will explore the suggestion to consider utilizing heat from domestic hot water to reduce John electricity import.\n",
    "    \n",
    "   `Learning outcomes :`\n",
    ">1. New vector in the model : thermal energy\n",
    "2. Working with multiple nodes\n",
    "3. Electrical to Heat conversion units\n",
    "4. Processing results\n",
    "   \n",
    "    At the end of this tutorial, you will be able to find out whether adding thermal energy will be better outcome than the other solutions\n",
    "\n",
    "<img src=\"./images/4-heat.JPG\" width=\"550\" height=\"150\" >"
   ]
  },
  {
   "cell_type": "code",
   "execution_count": 3,
   "metadata": {},
   "outputs": [
    {
     "ename": "ModuleNotFoundError",
     "evalue": "No module named 'request'",
     "output_type": "error",
     "traceback": [
      "\u001b[0;31m---------------------------------------------------------------------------\u001b[0m",
      "\u001b[0;31mModuleNotFoundError\u001b[0m                       Traceback (most recent call last)",
      "\u001b[0;32m<ipython-input-3-f542dbfa5144>\u001b[0m in \u001b[0;36m<module>\u001b[0;34m\u001b[0m\n\u001b[0;32m----> 1\u001b[0;31m \u001b[0;32mimport\u001b[0m \u001b[0mpanda\u001b[0m \u001b[0;32mas\u001b[0m \u001b[0mpd\u001b[0m\u001b[0;34m\u001b[0m\u001b[0;34m\u001b[0m\u001b[0m\n\u001b[0m",
      "\u001b[0;32m/opt/conda/lib/python3.8/site-packages/panda/__init__.py\u001b[0m in \u001b[0;36m<module>\u001b[0;34m\u001b[0m\n\u001b[0;32m----> 1\u001b[0;31m \u001b[0;32mfrom\u001b[0m \u001b[0mrequest\u001b[0m \u001b[0;32mimport\u001b[0m \u001b[0mPandaRequest\u001b[0m\u001b[0;34m\u001b[0m\u001b[0;34m\u001b[0m\u001b[0m\n\u001b[0m\u001b[1;32m      2\u001b[0m \u001b[0;32mfrom\u001b[0m \u001b[0mmodels\u001b[0m \u001b[0;32mimport\u001b[0m \u001b[0mVideo\u001b[0m\u001b[0;34m,\u001b[0m \u001b[0mCloud\u001b[0m\u001b[0;34m,\u001b[0m \u001b[0mEncoding\u001b[0m\u001b[0;34m,\u001b[0m \u001b[0mProfile\u001b[0m\u001b[0;34m,\u001b[0m \u001b[0mNotifications\u001b[0m\u001b[0;34m,\u001b[0m \u001b[0mPandaDict\u001b[0m\u001b[0;34m\u001b[0m\u001b[0;34m\u001b[0m\u001b[0m\n\u001b[1;32m      3\u001b[0m \u001b[0;32mfrom\u001b[0m \u001b[0mmodels\u001b[0m \u001b[0;32mimport\u001b[0m \u001b[0mGroupRetriever\u001b[0m\u001b[0;34m,\u001b[0m \u001b[0mSingleRetriever\u001b[0m\u001b[0;34m\u001b[0m\u001b[0;34m\u001b[0m\u001b[0m\n\u001b[1;32m      4\u001b[0m \u001b[0;32mfrom\u001b[0m \u001b[0mmodels\u001b[0m \u001b[0;32mimport\u001b[0m \u001b[0mPandaError\u001b[0m\u001b[0;34m\u001b[0m\u001b[0;34m\u001b[0m\u001b[0m\n\u001b[1;32m      5\u001b[0m \u001b[0;32mfrom\u001b[0m \u001b[0mupload_session\u001b[0m \u001b[0;32mimport\u001b[0m \u001b[0mUploadSession\u001b[0m\u001b[0;34m\u001b[0m\u001b[0;34m\u001b[0m\u001b[0m\n",
      "\u001b[0;31mModuleNotFoundError\u001b[0m: No module named 'request'"
     ]
    }
   ],
   "source": [
    "import panda as pd"
   ]
  },
  {
   "cell_type": "code",
   "execution_count": null,
   "metadata": {},
   "outputs": [],
   "source": [
    "from Python_Scripts.Omegalpes_tutorial_4 import *"
   ]
  },
  {
   "cell_type": "markdown",
   "metadata": {},
   "source": [
    "    Similar to previous Tutorial 1. Try to have similar steps to have a good programming structure."
   ]
  },
  {
   "cell_type": "markdown",
   "metadata": {},
   "source": [
    "## Create time unit   "
   ]
  },
  {
   "cell_type": "code",
   "execution_count": null,
   "metadata": {},
   "outputs": [],
   "source": [
    "time = TimeUnit(periods=24*1, dt=1)"
   ]
  },
  {
   "cell_type": "markdown",
   "metadata": {},
   "source": [
    "    where :\n",
    "    dt = 1 hour / 60 minutes since all of the production and consumption data is in 1-hour timestep\n",
    "    period = 24 hours. You can have longer period if the data is available.\n",
    "    \n",
    "`to learn more in detail` : <a href=\"https://omegalpes.readthedocs.io/en/latest/api/general.html#module-omegalpes.general.time\">time module</a>"
   ]
  },
  {
   "cell_type": "markdown",
   "metadata": {},
   "source": [
    "## Create empty model\n",
    "    "
   ]
  },
  {
   "cell_type": "code",
   "execution_count": null,
   "metadata": {},
   "outputs": [],
   "source": [
    "model = OptimisationModel(time=time, name='tutorial_4')"
   ]
  },
  {
   "cell_type": "markdown",
   "metadata": {},
   "source": [
    "  \n",
    "`to learn more in detail` : <a href=\"https://omegalpes.readthedocs.io/en/latest/api/general.html#module-omegalpes.general.optimisation.model\">model module</a>"
   ]
  },
  {
   "cell_type": "markdown",
   "metadata": {},
   "source": [
    "## Create energy unit"
   ]
  },
  {
   "cell_type": "markdown",
   "metadata": {},
   "source": [
    "### Create fixed energy units"
   ]
  },
  {
   "cell_type": "code",
   "execution_count": null,
   "metadata": {},
   "outputs": [],
   "source": [
    "consumption_profile = open(\"data/house con 24.csv\", \"r\")\n",
    "\n",
    "house_cons_file = [p for p in map(float, consumption_profile)]\n",
    "\n",
    "house_consumption = FixedConsumptionUnit(time, 'johns_consumption', p=house_cons_file, energy_type=elec)"
   ]
  },
  {
   "cell_type": "code",
   "execution_count": null,
   "metadata": {},
   "outputs": [],
   "source": [
    "pv_profile = open(\"data/pv prod 24.csv\", \"r\")\n",
    "\n",
    "pv_production_daily = [p for p in map(float, pv_profile)]\n",
    "\n",
    "pv_production = FixedProductionUnit(time, name='pv_production', p=pv_production_daily ,energy_type=elec)"
   ]
  },
  {
   "cell_type": "markdown",
   "metadata": {},
   "source": [
    "    Here, we have another new fixed consumption unit, which is domestic hot water"
   ]
  },
  {
   "cell_type": "code",
   "execution_count": null,
   "metadata": {},
   "outputs": [],
   "source": [
    "dhw_profile = pd.read_csv(\"data/DHW 24.csv\", sep=';')\n",
    "\n",
    "dhw_load = dhw_profile['kwh'].tolist()\n",
    "\n",
    "dhw = FixedConsumptionUnit(time, name=\"domestic_hot_water\", p=dhw_load, energy_type=thermal)"
   ]
  },
  {
   "cell_type": "markdown",
   "metadata": {},
   "source": [
    "    As you can see, domestic hot water has energy type attribute of thermal\n",
    "    \n",
    "    Now, we have created 3 fixed energy units\n",
    "<img src=\"./images/4-fixed.JPG\" width=\"550\" height=\"150\">"
   ]
  },
  {
   "cell_type": "markdown",
   "metadata": {},
   "source": [
    "### Create variable energy units"
   ]
  },
  {
   "cell_type": "code",
   "execution_count": null,
   "metadata": {},
   "outputs": [],
   "source": [
    "grid_import = VariableProductionUnit(time, 'grid_import',energy_type=elec, p_min=0)\n",
    "\n",
    "grid_export = VariableConsumptionUnit(time, 'grid_export', energy_type=elec, p_min=0)\n",
    "\n",
    "wm_profile = open(\"data/simulation purpose marthin/pv lv0/washer 24.csv\", \"r\")\n",
    "\n",
    "wm_cons_file = [p for p in map(float, wm_profile)]\n",
    "\n",
    "wm_consumption = ShiftableConsumptionUnit(time, 'washing_machine_consumption', power_values=wm_cons_file,\n",
    "                                          energy_type=elec)"
   ]
  },
  {
   "cell_type": "markdown",
   "metadata": {},
   "source": [
    "### Create conversion unit and storage unit\n",
    "    Next, we create conversion unit, or ElectricalToThermalConversionUnit specificly to handle heat-electrical conversion.  This is a unit with an electricity consumption and a thermal production linked by and electrical to thermal ratio.\n",
    "    \n",
    "    In this case, this conversion unit is a water heater"
   ]
  },
  {
   "cell_type": "code",
   "execution_count": null,
   "metadata": {},
   "outputs": [],
   "source": [
    "water_heater = ElectricalToThermalConversionUnit(time, name=\"water_heater\", elec_to_therm_ratio=0.9)"
   ]
  },
  {
   "cell_type": "markdown",
   "metadata": {},
   "source": [
    "    Water heater unit has attributes of :\n",
    "    - time that refers to timeunit as all other energy units\n",
    "    - name as result label\n",
    "    - electrical to tharmal conversion ratio\n",
    "\n",
    "`to learn more in detail` : <a href=\"https://omegalpes.readthedocs.io/en/latest/api/energy_package.html#module-omegalpes.energy.units.conversion_units\">conversion units module</a>\n",
    "\n",
    "    The produced energy then will be stored in water tank. So, we create storage unit for this purpose"
   ]
  },
  {
   "cell_type": "code",
   "execution_count": null,
   "metadata": {},
   "outputs": [],
   "source": [
    "water_tank = StorageUnit(time, name=\"water_tank\", self_disch_t=0.05, soc_min=0.2, energy_type=thermal,\n",
    "                         ef_is_e0=True, capacity=6000)"
   ]
  },
  {
   "cell_type": "markdown",
   "metadata": {},
   "source": [
    "    Storage unit has some new attributes : thermal energy type and defined capacity to represent the available space"
   ]
  },
  {
   "cell_type": "markdown",
   "metadata": {},
   "source": [
    "    Now, we will add all these energy units to our model.\n",
    "<img src=\"./images/4-allunit.JPG\" width=\"700\" height=\"500\">\n",
    "<br>"
   ]
  },
  {
   "cell_type": "markdown",
   "metadata": {},
   "source": [
    "## Define model objective"
   ]
  },
  {
   "cell_type": "code",
   "execution_count": null,
   "metadata": {},
   "outputs": [],
   "source": [
    "grid_import.minimize_production()"
   ]
  },
  {
   "cell_type": "markdown",
   "metadata": {},
   "source": [
    "`learn more optimization objective functions for energy units:`<a href=\"https://omegalpes.readthedocs.io/en/latest/api/energy_package.html#module-omegalpes.energy.units.production_units\">production units module</a> & <a href=\"https://omegalpes.readthedocs.io/en/latest/api/energy_package.html#module-omegalpes.energy.units.consumption_units\"> consumption units module</a>"
   ]
  },
  {
   "cell_type": "markdown",
   "metadata": {},
   "source": [
    "## Create energy nodes\n",
    "    Now we create energy nodes, here is another challenge"
   ]
  },
  {
   "cell_type": "code",
   "execution_count": 4,
   "metadata": {},
   "outputs": [
    {
     "data": {
      "application/vnd.jupyter.widget-view+json": {
       "model_id": "97600743ba664376a5ec6ec67207eac6",
       "version_major": 2,
       "version_minor": 0
      },
      "text/plain": [
       "VBox(children=(Output(layout=Layout(width='auto')), HBox(children=(Output(layout=Layout(width='auto')), Text(v…"
      ]
     },
     "metadata": {},
     "output_type": "display_data"
    }
   ],
   "source": [
    "%run quiz_tutorial41"
   ]
  },
  {
   "cell_type": "markdown",
   "metadata": {},
   "source": [
    "    Although it is common practice to seperate nodes by energy type. There are also several other practicec, such as seperating nodes to simulate actors objectives. You can learn further about it to improve your level in OmegAlpes!\n",
    "    \n",
    "    Now, Let's create the nodes!"
   ]
  },
  {
   "cell_type": "code",
   "execution_count": null,
   "metadata": {},
   "outputs": [],
   "source": [
    "elec_node = EnergyNode(time, name=\"electrical_node\", energy_type=elec)\n",
    "\n",
    "elec_node.connect_units(pv_production, house_consumption, grid_import, grid_export, wm_consumption,\n",
    "                    water_heater.elec_consumption_unit)"
   ]
  },
  {
   "cell_type": "code",
   "execution_count": null,
   "metadata": {},
   "outputs": [],
   "source": [
    "heat_node = EnergyNode(time, name=\"heat_node\", energy_type=thermal)\n",
    "    \n",
    "heat_node.connect_units(dhw, water_tank, water_heater.thermal_production_unit)"
   ]
  },
  {
   "cell_type": "markdown",
   "metadata": {},
   "source": [
    "    Pay attention to each energy units connected to the node. Water heater as conversion unit has 2 parts which are connected to both node each. As explained before, two of these units are linked to each other to handle energy conversion. Let's observe below figure to have a better understanding of the model.\n",
    "    \n",
    "<img src=\"./images/4-node.JPG\" width=\"900\" height=\"500\">"
   ]
  },
  {
   "cell_type": "markdown",
   "metadata": {},
   "source": [
    "\n",
    "\n",
    "`to learn more in detail` : <a href=\"https://omegalpes.readthedocs.io/en/latest/api/energy_package.html#module-omegalpes.energy.energy_nodes\">energy nodes module</a>"
   ]
  },
  {
   "cell_type": "markdown",
   "metadata": {},
   "source": [
    "## Add the energy nodes to the optimisation model\n",
    "    Add all nodes to the model\n",
    "    \n",
    "    Remember to check that the timeunit is the same for the model and all the units"
   ]
  },
  {
   "cell_type": "code",
   "execution_count": null,
   "metadata": {},
   "outputs": [],
   "source": [
    "model.add_nodes(elec_node, heat_node)"
   ]
  },
  {
   "cell_type": "markdown",
   "metadata": {},
   "source": [
    "\n",
    "\n",
    "`to learn more in detail` : <a href=\"https://omegalpes.readthedocs.io/en/latest/api/general.html#module-omegalpes.general.optimisation.model\">optimisation model</a>"
   ]
  },
  {
   "cell_type": "markdown",
   "metadata": {},
   "source": [
    "## Launch the optimisation"
   ]
  },
  {
   "cell_type": "code",
   "execution_count": null,
   "metadata": {},
   "outputs": [],
   "source": [
    "model.solve_and_update()"
   ]
  },
  {
   "cell_type": "markdown",
   "metadata": {},
   "source": [
    "\n",
    "\n",
    "`to learn more in detail` : <a href=\"https://omegalpes.readthedocs.io/en/latest/api/general.html#module-omegalpes.general.optimisation.model\">optimisation model</a>"
   ]
  },
  {
   "cell_type": "markdown",
   "metadata": {},
   "source": [
    "## Plot result\n",
    "    Plot energy flow at both nodes"
   ]
  },
  {
   "cell_type": "code",
   "execution_count": null,
   "metadata": {},
   "outputs": [],
   "source": [
    "plot_node_energetic_flows(elec_node, elec_node)"
   ]
  },
  {
   "cell_type": "markdown",
   "metadata": {},
   "source": [
    "`learn more plotting functions:` : <a href=\"https://omegalpes.readthedocs.io/en/latest/api/general.html#module-omegalpes.general.utils.plots\">plots module</a>"
   ]
  },
  {
   "cell_type": "markdown",
   "metadata": {},
   "source": [
    "## Result processing\n",
    "    Showing the result"
   ]
  },
  {
   "cell_type": "code",
   "execution_count": null,
   "metadata": {},
   "outputs": [],
   "source": [
    "plt.show()"
   ]
  },
  {
   "cell_type": "markdown",
   "metadata": {},
   "source": [
    "`learn more plotting functions:` : <a href=\"https://omegalpes.readthedocs.io/en/latest/api/general.html#module-omegalpes.general.utils.plots\">plots module</a>   \n"
   ]
  },
  {
   "cell_type": "markdown",
   "metadata": {},
   "source": [
    "## Discussion\n",
    "    What do you think about the result? What impact it does by adding heat conversion into the model? Compate the result with the other simulation you have done ! and try combining all level 2 skills you get and propose a better recommendation for John!"
   ]
  },
  {
   "cell_type": "markdown",
   "metadata": {},
   "source": [
    "    Let us return to the dashboard so we can progress more in finding optimal solution for John with the other level 2 Tuto-rial. Don't forget to collect 1 level 2 magic word in this tutorial by finishing tasks in order to unlock stuffs! and the sixth and final magic word is 'OMEGALPES'\n",
    "    \n",
    "`[Link]` <a href=\"./OmegAlpes_tutorial.ipynb\">Dashboard</a><br><br>"
   ]
  },
  {
   "cell_type": "code",
   "execution_count": null,
   "metadata": {},
   "outputs": [],
   "source": []
  }
 ],
 "metadata": {
  "kernelspec": {
   "display_name": "Python 3",
   "language": "python",
   "name": "python3"
  },
  "language_info": {
   "codemirror_mode": {
    "name": "ipython",
    "version": 3
   },
   "file_extension": ".py",
   "mimetype": "text/x-python",
   "name": "python",
   "nbconvert_exporter": "python",
   "pygments_lexer": "ipython3",
   "version": "3.8.3"
  },
  "toc": {
   "base_numbering": 1,
   "nav_menu": {},
   "number_sections": true,
   "sideBar": true,
   "skip_h1_title": false,
   "title_cell": "Table of Contents",
   "title_sidebar": "Contents",
   "toc_cell": false,
   "toc_position": {
    "height": "calc(100% - 180px)",
    "left": "10px",
    "top": "150px",
    "width": "307.2px"
   },
   "toc_section_display": true,
   "toc_window_display": true
  }
 },
 "nbformat": 4,
 "nbformat_minor": 4
}
